!pip install pandas matplotlib
import pandas as pd
import matplotlib.pyplot
df['Price'].str.replace(',', '').astype(float).plot(figsize=(12,8))
